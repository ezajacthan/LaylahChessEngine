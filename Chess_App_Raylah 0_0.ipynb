{
 "cells": [
  {
   "cell_type": "code",
   "execution_count": null,
   "metadata": {
    "colab": {
     "base_uri": "https://localhost:8080/",
     "height": 34
    },
    "id": "pTcUQH9b3tkG",
    "outputId": "e54fe0d4-a51e-4485-816f-91fb956f24a0"
   },
   "outputs": [],
   "source": [
    "!pip install python_chess"
   ]
  },
  {
   "cell_type": "code",
   "execution_count": null,
   "metadata": {
    "id": "x7eXx1Hx42T7"
   },
   "outputs": [],
   "source": [
    "#setup app environment\n",
    "import chess\n",
    "import random\n",
    "import time"
   ]
  },
  {
   "cell_type": "code",
   "execution_count": null,
   "metadata": {
    "id": "_7C8y2gc42Ri"
   },
   "outputs": [],
   "source": [
    "def PlayHumanvsAI():\n",
    "  board = chess.Board()\n",
    "  player = ''\n",
    "  while player != 'White' and player != \"Black\":\n",
    "    player = input('Enter whether you would like to play \"White\" or \"Black\" vs the computer: ')\n",
    "  if player == \"White\":\n",
    "    while(board.is_game_over() == False):\n",
    "      print(board)\n",
    "      move = ''\n",
    "      while move == '':\n",
    "        try:\n",
    "          move = board.parse_san(input(\"{}, enter a move: \".format(player)))\n",
    "        except ValueError:\n",
    "          print(\"Invalid move!\")\n",
    "      board.push(move)\n",
    "      if board.is_game_over():\n",
    "        break\n",
    "\n",
    "      #Now it is the AI's turn\n",
    "\n",
    "      #get next move via AI algorithm\n",
    "      move_AI = list(board.legal_moves)[random.randint(0, len(list(board.legal_moves)) - 1)]\n",
    "      print(move_AI)\n",
    "      board.push(move_AI)\n",
    "    \n",
    "    print(board)\n",
    "    print(\"Game Over! Winner is {}\".format(player))\n",
    "  else:\n",
    "    while(board.is_game_over() == False):\n",
    "      #Now it is the AI's turn\n",
    "\n",
    "      #get next move via AI algorithm\n",
    "      move_AI = list(board.legal_moves)[random.randint(0, len(list(board.legal_moves)) - 1)]\n",
    "      board.push(move_AI)\n",
    "      print(board)\n",
    "\n",
    "      move = ''\n",
    "      while move == '':\n",
    "        try:\n",
    "          move = board.parse_san(input(\"{}, enter a move: \".format(player)))\n",
    "        except ValueError:\n",
    "          print(\"Invalid move!\")\n",
    "      board.push(move)\n",
    "      if board.is_game_over():\n",
    "        break\n",
    "    if(board.is_checkmate()):\n",
    "      print(\"Game Over! Winner is {}!\".format(player))\n",
    "    else:\n",
    "      print(\"Game Over! Draw!\")"
   ]
  },
  {
   "cell_type": "code",
   "execution_count": null,
   "metadata": {
    "id": "J3V4VI7142NL"
   },
   "outputs": [],
   "source": [
    "def PlayAIvsAI():\n",
    "  board = chess.Board()\n",
    "  player = 'White'\n",
    "  while(board.is_game_over() == False):\n",
    "      print(board)\n",
    "      print()\n",
    "      \n",
    "      #First AI's turn\n",
    "      player = \"White\"\n",
    "      move_AI = list(board.legal_moves)[random.randint(0, len(list(board.legal_moves)) - 1)]\n",
    "      board.push(move_AI)\n",
    "\n",
    "      if board.is_game_over():\n",
    "        break\n",
    "\n",
    "      #Wait for five seconds for ease to see the game\n",
    "      time.sleep(3)\n",
    "      print(board)\n",
    "      print()\n",
    "      print()\n",
    "\n",
    "      #Now it is the AI's turn\n",
    "      player = 'Black'\n",
    "      #next AI's move\n",
    "      move_AI = list(board.legal_moves)[random.randint(0, len(list(board.legal_moves)) - 1)]\n",
    "      board.push(move_AI)\n",
    "\n",
    "  if(board.is_checkmate()):\n",
    "    print(\"Game Over! Winner is {}!\".format(player))\n",
    "  else:\n",
    "    print(\"Game Over! Draw!\")"
   ]
  },
  {
   "cell_type": "code",
   "execution_count": null,
   "metadata": {
    "colab": {
     "base_uri": "https://localhost:8080/"
    },
    "id": "-TPVc6EJl4u_",
    "outputId": "bdb8b16e-78d5-4e84-e062-0f3d527feb42"
   },
   "outputs": [],
   "source": [
    "PlayAIvsAI()"
   ]
  }
 ],
 "metadata": {
  "colab": {
   "collapsed_sections": [],
   "name": "Chess_App_11_7.ipynb",
   "provenance": []
  },
  "kernelspec": {
   "display_name": "Python 3",
   "language": "python",
   "name": "python3"
  },
  "language_info": {
   "codemirror_mode": {
    "name": "ipython",
    "version": 3
   },
   "file_extension": ".py",
   "mimetype": "text/x-python",
   "name": "python",
   "nbconvert_exporter": "python",
   "pygments_lexer": "ipython3",
   "version": "3.7.4"
  }
 },
 "nbformat": 4,
 "nbformat_minor": 4
}
