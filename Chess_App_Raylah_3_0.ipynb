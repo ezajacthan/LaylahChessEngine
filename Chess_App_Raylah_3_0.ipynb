{
  "nbformat": 4,
  "nbformat_minor": 0,
  "metadata": {
    "kernelspec": {
      "display_name": "Python 3",
      "language": "python",
      "name": "python3"
    },
    "language_info": {
      "codemirror_mode": {
        "name": "ipython",
        "version": 3
      },
      "file_extension": ".py",
      "mimetype": "text/x-python",
      "name": "python",
      "nbconvert_exporter": "python",
      "pygments_lexer": "ipython3",
      "version": "3.7.4"
    },
    "colab": {
      "name": "Chess_App_Raylah_Final.ipynb",
      "provenance": [],
      "collapsed_sections": []
    }
  },
  "cells": [
    {
      "cell_type": "code",
      "metadata": {
        "id": "pTcUQH9b3tkG",
        "colab": {
          "base_uri": "https://localhost:8080/"
        },
        "outputId": "d92aa6ba-31a9-4983-a36c-65762d4d23a9"
      },
      "source": [
        "!pip install python_chess"
      ],
      "execution_count": 235,
      "outputs": [
        {
          "output_type": "stream",
          "text": [
            "Requirement already satisfied: python_chess in /usr/local/lib/python3.6/dist-packages (0.23.11)\n"
          ],
          "name": "stdout"
        }
      ]
    },
    {
      "cell_type": "code",
      "metadata": {
        "id": "awayTyIt5Qvg"
      },
      "source": [
        "#Plays differently than the example; no clue why"
      ],
      "execution_count": 236,
      "outputs": []
    },
    {
      "cell_type": "code",
      "metadata": {
        "id": "x7eXx1Hx42T7"
      },
      "source": [
        "#setup app environment\n",
        "import chess\n",
        "import random\n",
        "import time\n",
        "from IPython.display import clear_output"
      ],
      "execution_count": 237,
      "outputs": []
    },
    {
      "cell_type": "code",
      "metadata": {
        "id": "xvGKFbsira8v"
      },
      "source": [
        "def RaylahChessAI(board, color, depth = 3):\n",
        "  new_board = board.copy()\n",
        "\n",
        "  def get_eval(piece, square, color):\n",
        "  # King\n",
        "    if piece == 6:\n",
        "      K_eval = [2,3,1,0,0,1,3,2,\n",
        "                2,2,0,0,0,0,2,2,\n",
        "                -1,-2,-2,-2,-2,-2,-2,-1,\n",
        "                -2,-3,-3,-4,-4,-3,-3,-2,\n",
        "                -3,-4,-4,-5,-5,-4,-4,-3,\n",
        "                -3,-4,-4,-5,-5,-4,-4,-3,\n",
        "                -3,-4,-4,-5,-5,-4,-4,-3,\n",
        "                -3,-4,-4,-5,-5,-4,-4,-3,]\n",
        "      if color:\n",
        "        ret = 1000 + K_eval[square]\n",
        "        return ret\n",
        "      else:\n",
        "        square = 63 - square \n",
        "        ret = -1000 - K_eval[square]\n",
        "        return ret\n",
        "  \n",
        "  # Queen\n",
        "    if piece == 5:\n",
        "      Q_eval = [-2,  -1,  -1, -.5, -.5,  -1,  -1,  -2,\n",
        "                -1,   0,  .5,   0,   0,   0,   0,  -1,\n",
        "                -1,  .5,  .5,  .5,  .5,  .5,   0,  -1,\n",
        "                 0,   0,  .5,  .5,  .5,  .5,   0, -.5,\n",
        "                -.5,  0,  .5,  .5,  .5,  .5,   0, -.5, \n",
        "                -1,   0,  .5,  .5,  .5,  .5,   0,  -1,\n",
        "                -1,   0,   0,   0,   0,   0,   0,  -1,\n",
        "                -2,  -1,  -1, -.5, -.5,  -1,  -1,  -2]\n",
        "      if color:\n",
        "        return 90 + Q_eval[square]\n",
        "      else:\n",
        "        square = 63 - square \n",
        "        return -90 - Q_eval[square]\n",
        "\n",
        "  # Rook\n",
        "    if piece == 4:\n",
        "      R_eval = [ 0,   0,   0,  .5,  .5,   0,  -0,   0,\n",
        "               -.5,   0,   0,   0,   0,   0,   0, -.5,\n",
        "               -.5,   0,   0,   0,   0,   0,   0, -.5,\n",
        "               -.5,   0,   0,   0,   0,   0,   0, -.5,\n",
        "               -.5,   0,   0,   0,   0,   0,   0, -.5, \n",
        "              - .5,   0,   0,   0,   0,   0,   0, -.5,\n",
        "                .5,   1,   1,   1,   1,   1,   1, -.5,\n",
        "                 0,   0,   0,   0,   0,   0,   0,   0]\n",
        "      if color:\n",
        "        return 50 + R_eval[square]\n",
        "      else:\n",
        "        square = 63 - square \n",
        "        return -50 - R_eval[square]\n",
        "  \n",
        "  # Bishop\n",
        "    if piece == 3:\n",
        "      B_eval = [ -2,  -1,  -1,  -1,  -1,  -1,  -1,  -2,\n",
        "                 -1,  .5,   0,   0,   0,   0,  .5,  -1,\n",
        "                 -1,   1,   1,   1,   1,   1,   1,  -1,\n",
        "                 -1,   0,   1,   1,   1,   1,   0,  -1,\n",
        "                 -1,  .5,  .5,   1,   1,  .5,  .5,  -1, \n",
        "                 -1,   0,  .5,   1,   1,  .5,   0,  -1,\n",
        "                 -1,   0,   0,   0,   0,   0,   0,  -1,\n",
        "                 -2,  -1,  -1,  -1,  -1,  -1,  -1,  -2]\n",
        "      if color:\n",
        "        return 32 + B_eval[square]\n",
        "      else:\n",
        "        square = 63 - square \n",
        "        return -32 - B_eval[square]\n",
        "\n",
        "  # Knight\n",
        "    if piece == 2:\n",
        "      N_eval = [ -5,  -4,  -3,  -3,  -3,  -3,  -4,  -5,\n",
        "                 -4,  -2,   0,  .5,  .5,   0,  -2,  -4,\n",
        "                 -3,  .5,   1, 1.5, 1.5,   1,  .5,  -3,\n",
        "                 -3,   0, 1.5,   2,   2, 1.5,   0,  -3,\n",
        "                 -3,  .5, 1.5,   2,   2, 1.5,  .5,  -3, \n",
        "                 -3,   0,   1, 1.5, 1.5,   1,   0,  -3,\n",
        "                 -4,  -2,   0,   0,   0,   0,  -2,  -4,\n",
        "                 -5,  -4,  -3,  -3,  -3,  -3,  -4,  -5]\n",
        "      if color:\n",
        "        return 30 + N_eval[square]\n",
        "      else:\n",
        "        square = 63 - square \n",
        "        return -30 - N_eval[square]\n",
        "  \n",
        "  # Pawn\n",
        "    if piece == 1:\n",
        "      P_eval = [  0,   0,   0,   0,   0,   0,   0,   0,\n",
        "                 .5,   1,   1,  -2,  -2,   1,   1,  .5,\n",
        "                 .5, -.5,  -1,   0,   0,  -1, -.5,  .5,\n",
        "                  0,   0,   0,   2,   2,   0,   0,   0,\n",
        "                 .5,  .5,   1, 2.5, 2.5,   1,  .5,  .5, \n",
        "                  1,   1,   2,   3,   3,   2,   1,   1,\n",
        "                  5,   5,   5,   5,   5,   5,   5,   5,\n",
        "                  0,   0,   0,   0,   0,   0,   0,   0]\n",
        "      if color:\n",
        "        return 10 + P_eval[square]\n",
        "      else:\n",
        "        square = 63 - square \n",
        "        return -10 - P_eval[square]\n",
        "\n",
        "  \n",
        "  def evaluate_board(board):\n",
        "    tot_eval = 0\n",
        "    for square in chess.SQUARES:\n",
        "      piece = None\n",
        "      val = None\n",
        "      piece = board.piece_at(square)\n",
        "      if piece is not None:\n",
        "        val = get_eval(piece.piece_type, square, piece.color)\n",
        "        tot_eval += val\n",
        "    return tot_eval\n",
        "\n",
        "  def minimax(board, depth, alpha, beta, is_maximizing):\n",
        "    minimax_board = board.copy()\n",
        "    if depth == 0 or len(list(minimax_board.legal_moves)) == 0:\n",
        "      move = None\n",
        "      try:\n",
        "        while (new_board.peek() != minimax_board.peek()):\n",
        "            move = minimax_board.pop()\n",
        "        if minimax_board.is_game_over():\n",
        "          if minimax_board.is_checkmate():\n",
        "            if minimax_board.turn:\n",
        "              return [-100000000, move]\n",
        "            else:\n",
        "              return [100000000, move]\n",
        "          else:\n",
        "            return [0, move]\n",
        "        else:\n",
        "          return [evaluate_board(board), move]\n",
        "      except IndexError:\n",
        "        move = new_board.parse_san(\"e4\")\n",
        "        return [4, move ]\n",
        "  \n",
        "    best_move = None\n",
        "    minimax_board = board.copy()\n",
        "    if is_maximizing:\n",
        "      val = -1000000\n",
        "      moves = list(minimax_board.legal_moves)\n",
        "      for move in moves:\n",
        "        minimax_board.push(move)\n",
        "        new_depth = depth-1\n",
        "        test = minimax(minimax_board, new_depth, alpha, beta, False)\n",
        "        if val < test[0]:\n",
        "          val = test[0]\n",
        "          best_move = test[1]\n",
        "        if val > alpha:\n",
        "          alpha = val\n",
        "        if (beta <= alpha):\n",
        "          return [val, best_move]\n",
        "        minimax_board.pop()\n",
        "      return [val, best_move]\n",
        "    else:\n",
        "      val = 1000000\n",
        "      moves = list(board.legal_moves)\n",
        "      for move in moves:\n",
        "        minimax_board.push(move)\n",
        "        new_depth = depth-1\n",
        "        test = minimax(minimax_board, new_depth, alpha, beta, True)\n",
        "        if val > test[0]:\n",
        "          val = test[0]\n",
        "          best_move = test[1] \n",
        "        if val < beta:\n",
        "          beta = val\n",
        "        if (beta <= alpha):\n",
        "          return [val, best_move]\n",
        "        minimax_board.pop()\n",
        "      return [val, best_move]\n",
        "\n",
        "    \n",
        "  #run the minimax algorithm\n",
        "  result = minimax(new_board, depth, -1000000, 1000000, color)\n",
        "\n",
        "  return result[1]"
      ],
      "execution_count": 238,
      "outputs": []
    },
    {
      "cell_type": "code",
      "metadata": {
        "id": "UZLLs2RLq7rD"
      },
      "source": [
        "def PlayAIvsRaylah():\n",
        "  board = chess.Board()\n",
        "  player = 'White'\n",
        "  while(board.is_game_over() == False):\n",
        "      \n",
        "      #First AI's turn\n",
        "      player = \"White\"\n",
        "      legal_moves = board.legal_moves\n",
        "      move_AI = list(legal_moves)[random.randint(0, len(list(legal_moves)) - 1)]\n",
        "      board.push(move_AI)\n",
        "\n",
        "      if board.is_game_over():\n",
        "        break\n",
        "      \n",
        "      #Now it is the AI's turn\n",
        "      player = 'Raylah'\n",
        "      #next AI's move\n",
        "      move_AI = RaylahChessAI(board, False)\n",
        "      board.push(move_AI)       \n",
        "      \n",
        "\n",
        "  if (board.is_checkmate()):\n",
        "    return player\n",
        "  else:\n",
        "    return \"draw\"\n"
      ],
      "execution_count": 239,
      "outputs": []
    },
    {
      "cell_type": "code",
      "metadata": {
        "id": "M0vDujD5nSvL"
      },
      "source": [
        "def PlayRaylahVsAI():\r\n",
        "  board = chess.Board()\r\n",
        "  player = 'White'\r\n",
        "  while(board.is_game_over() == False):\r\n",
        "      \r\n",
        "      #First AI's turn\r\n",
        "      player = 'Raylah'\r\n",
        "      #next AI's move\r\n",
        "      move_AI = RaylahChessAI(board, True)\r\n",
        "      board.push(move_AI)\r\n",
        "\r\n",
        "      if board.is_game_over():\r\n",
        "        break\r\n",
        "      \r\n",
        "      #Now it is the AI's turn\r\n",
        "      player = \"Black\"\r\n",
        "      legal_moves = board.legal_moves\r\n",
        "      move_AI = list(legal_moves)[random.randint(0, len(list(legal_moves)) - 1)]\r\n",
        "      board.push(move_AI)\r\n",
        "      \r\n",
        "\r\n",
        "  if board.is_checkmate():\r\n",
        "    return player\r\n",
        "  else:\r\n",
        "    return \"draw\""
      ],
      "execution_count": 240,
      "outputs": []
    },
    {
      "cell_type": "code",
      "metadata": {
        "id": "-TPVc6EJl4u_"
      },
      "source": [
        "def ResultAIvsRaylah():\n",
        "  before = time.perf_counter()\n",
        "  result = PlayAIvsRaylah()\n",
        "  after = time.perf_counter()\n",
        "  totalTime = after - before\n",
        "  return (result, totalTime)"
      ],
      "execution_count": 241,
      "outputs": []
    },
    {
      "cell_type": "code",
      "metadata": {
        "id": "V7M7TbtA6VqL"
      },
      "source": [
        "def ResultRaylahvsAI():\r\n",
        "  before = time.perf_counter()\r\n",
        "  result = PlayRaylahVsAI()\r\n",
        "  after = time.perf_counter()\r\n",
        "  totalTime = after - before\r\n",
        "  return (result, totalTime)"
      ],
      "execution_count": 234,
      "outputs": []
    },
    {
      "cell_type": "code",
      "metadata": {
        "id": "nIZwGjpc0jXU"
      },
      "source": [
        "def TestRaylah():\r\n",
        "  games = {}\r\n",
        "  raylah_wins = 0\r\n",
        "  draws = 0\r\n",
        "  random_wins = 0\r\n",
        "  for x in range(1,51):\r\n",
        "    if x > 25:\r\n",
        "      res = ResultAIvsRaylah()\r\n",
        "    else:\r\n",
        "      res = ResultRaylahvsAI()\r\n",
        "    games[x] = res\r\n",
        "  for val in games.values():\r\n",
        "    if val[0] == 'Raylah':\r\n",
        "      raylah_wins +=1\r\n",
        "    elif val[0]== \"draw\":\r\n",
        "      draws += 1\r\n",
        "    else:\r\n",
        "      random_wins += 1\r\n",
        "  print(\"Results: \\n Games: {}\\n Raylah won {} games!\\n Raylah drew {} games!\\n Raylah lost {} games!\".format(len(games), raylah_wins, draws, random_wins))"
      ],
      "execution_count": 243,
      "outputs": []
    },
    {
      "cell_type": "code",
      "metadata": {
        "colab": {
          "base_uri": "https://localhost:8080/"
        },
        "id": "TljHQzAC6zwF",
        "outputId": "089dad19-c5f6-4b7e-9c26-6579148e9676"
      },
      "source": [
        "TestRaylah()"
      ],
      "execution_count": 244,
      "outputs": [
        {
          "output_type": "stream",
          "text": [
            "Results: \n",
            " Games: 50\n",
            " Raylah won 8 games!\n",
            " Raylah drew 42 games!\n",
            " Raylah lost 0 games!\n"
          ],
          "name": "stdout"
        }
      ]
    },
    {
      "cell_type": "code",
      "metadata": {
        "id": "_7C8y2gc42Ri"
      },
      "source": [
        "def PlayHumanvsRaylah():\n",
        "  board = chess.Board()\n",
        "  player = ''\n",
        "  while player != 'White' and player != \"Black\":\n",
        "    player = input('Enter whether you would like to play \"White\" or \"Black\" vs the computer: ')\n",
        "  if player == \"White\":\n",
        "    while(board.is_game_over() == False):\n",
        "      clear_output(wait=True)\n",
        "      print(board)\n",
        "      player = \"White\"\n",
        "      move = ''\n",
        "      while move == '':\n",
        "        try:\n",
        "          move = board.parse_san(input(\"{}, enter a move: \".format(player)))\n",
        "        except ValueError:\n",
        "          print(\"Invalid move!\")\n",
        "      board.push(move)\n",
        "      if board.is_game_over():\n",
        "        break\n",
        "\n",
        "      #Now it is the AI's turn\n",
        "\n",
        "      #get next move via AI algorithm\n",
        "      player = \"Raylah\"\n",
        "      move_AI = RaylahChessAI(board, False)\n",
        "      board.push(move_AI)\n",
        "    \n",
        "    clear_output(wait=True)\n",
        "    print(board)\n",
        "    print(\"Game Over! Winner is {}\".format(player))\n",
        "  \n",
        "  else:\n",
        "    while(board.is_game_over() == False):\n",
        "      #Now it is the AI's turn\n",
        "      player = 'Raylah'\n",
        "      #get next move via AI algorithm\n",
        "      move_AI = RaylahChessAI(board, True)\n",
        "      board.push(move_AI)\n",
        "      clear_output(wait=True)\n",
        "      print(board)\n",
        "      if board.is_game_over():\n",
        "        break\n",
        "\n",
        "      player = 'Black'\n",
        "      move = ''\n",
        "      while move == '':\n",
        "        try:\n",
        "          move = board.parse_san(input(\"{}, enter a move: \".format(player)))\n",
        "        except ValueError:\n",
        "          print(\"Invalid move!\")\n",
        "      board.push(move)\n",
        "  if(board.is_checkmate()):\n",
        "    clear_output(wait=True)\n",
        "    print(board)\n",
        "    print(\"Game Over! Winner is {}!\".format(player))\n",
        "  else:\n",
        "    clear_output(wait=True)\n",
        "    print(board)\n",
        "    print(\"Game Over! Draw!\")"
      ],
      "execution_count": 173,
      "outputs": []
    },
    {
      "cell_type": "code",
      "metadata": {
        "id": "PtQ9yrNoeF-p",
        "colab": {
          "base_uri": "https://localhost:8080/",
          "height": 663
        },
        "outputId": "e3b944d4-e195-498e-a61f-a53c3061dec1"
      },
      "source": [
        "PlayHumanvsRaylah()"
      ],
      "execution_count": 204,
      "outputs": [
        {
          "output_type": "stream",
          "text": [
            "r . b . . b . r\n",
            ". . . p . k . p\n",
            "p . n p . q . .\n",
            ". p . . p . . .\n",
            ". . . . . . . .\n",
            ". . Q . . . P .\n",
            "P P P P . P . P\n",
            "R . B . K . . R\n"
          ],
          "name": "stdout"
        },
        {
          "output_type": "error",
          "ename": "KeyboardInterrupt",
          "evalue": "ignored",
          "traceback": [
            "\u001b[0;31m---------------------------------------------------------------------------\u001b[0m",
            "\u001b[0;31mKeyboardInterrupt\u001b[0m                         Traceback (most recent call last)",
            "\u001b[0;32m/usr/local/lib/python3.6/dist-packages/ipykernel/kernelbase.py\u001b[0m in \u001b[0;36m_input_request\u001b[0;34m(self, prompt, ident, parent, password)\u001b[0m\n\u001b[1;32m    728\u001b[0m             \u001b[0;32mtry\u001b[0m\u001b[0;34m:\u001b[0m\u001b[0;34m\u001b[0m\u001b[0;34m\u001b[0m\u001b[0m\n\u001b[0;32m--> 729\u001b[0;31m                 \u001b[0mident\u001b[0m\u001b[0;34m,\u001b[0m \u001b[0mreply\u001b[0m \u001b[0;34m=\u001b[0m \u001b[0mself\u001b[0m\u001b[0;34m.\u001b[0m\u001b[0msession\u001b[0m\u001b[0;34m.\u001b[0m\u001b[0mrecv\u001b[0m\u001b[0;34m(\u001b[0m\u001b[0mself\u001b[0m\u001b[0;34m.\u001b[0m\u001b[0mstdin_socket\u001b[0m\u001b[0;34m,\u001b[0m \u001b[0;36m0\u001b[0m\u001b[0;34m)\u001b[0m\u001b[0;34m\u001b[0m\u001b[0;34m\u001b[0m\u001b[0m\n\u001b[0m\u001b[1;32m    730\u001b[0m             \u001b[0;32mexcept\u001b[0m \u001b[0mException\u001b[0m\u001b[0;34m:\u001b[0m\u001b[0;34m\u001b[0m\u001b[0;34m\u001b[0m\u001b[0m\n",
            "\u001b[0;32m/usr/local/lib/python3.6/dist-packages/jupyter_client/session.py\u001b[0m in \u001b[0;36mrecv\u001b[0;34m(self, socket, mode, content, copy)\u001b[0m\n\u001b[1;32m    802\u001b[0m         \u001b[0;32mtry\u001b[0m\u001b[0;34m:\u001b[0m\u001b[0;34m\u001b[0m\u001b[0;34m\u001b[0m\u001b[0m\n\u001b[0;32m--> 803\u001b[0;31m             \u001b[0mmsg_list\u001b[0m \u001b[0;34m=\u001b[0m \u001b[0msocket\u001b[0m\u001b[0;34m.\u001b[0m\u001b[0mrecv_multipart\u001b[0m\u001b[0;34m(\u001b[0m\u001b[0mmode\u001b[0m\u001b[0;34m,\u001b[0m \u001b[0mcopy\u001b[0m\u001b[0;34m=\u001b[0m\u001b[0mcopy\u001b[0m\u001b[0;34m)\u001b[0m\u001b[0;34m\u001b[0m\u001b[0;34m\u001b[0m\u001b[0m\n\u001b[0m\u001b[1;32m    804\u001b[0m         \u001b[0;32mexcept\u001b[0m \u001b[0mzmq\u001b[0m\u001b[0;34m.\u001b[0m\u001b[0mZMQError\u001b[0m \u001b[0;32mas\u001b[0m \u001b[0me\u001b[0m\u001b[0;34m:\u001b[0m\u001b[0;34m\u001b[0m\u001b[0;34m\u001b[0m\u001b[0m\n",
            "\u001b[0;32m/usr/local/lib/python3.6/dist-packages/zmq/sugar/socket.py\u001b[0m in \u001b[0;36mrecv_multipart\u001b[0;34m(self, flags, copy, track)\u001b[0m\n\u001b[1;32m    565\u001b[0m         \"\"\"\n\u001b[0;32m--> 566\u001b[0;31m         \u001b[0mparts\u001b[0m \u001b[0;34m=\u001b[0m \u001b[0;34m[\u001b[0m\u001b[0mself\u001b[0m\u001b[0;34m.\u001b[0m\u001b[0mrecv\u001b[0m\u001b[0;34m(\u001b[0m\u001b[0mflags\u001b[0m\u001b[0;34m,\u001b[0m \u001b[0mcopy\u001b[0m\u001b[0;34m=\u001b[0m\u001b[0mcopy\u001b[0m\u001b[0;34m,\u001b[0m \u001b[0mtrack\u001b[0m\u001b[0;34m=\u001b[0m\u001b[0mtrack\u001b[0m\u001b[0;34m)\u001b[0m\u001b[0;34m]\u001b[0m\u001b[0;34m\u001b[0m\u001b[0;34m\u001b[0m\u001b[0m\n\u001b[0m\u001b[1;32m    567\u001b[0m         \u001b[0;31m# have first part already, only loop while more to receive\u001b[0m\u001b[0;34m\u001b[0m\u001b[0;34m\u001b[0m\u001b[0;34m\u001b[0m\u001b[0m\n",
            "\u001b[0;32mzmq/backend/cython/socket.pyx\u001b[0m in \u001b[0;36mzmq.backend.cython.socket.Socket.recv\u001b[0;34m()\u001b[0m\n",
            "\u001b[0;32mzmq/backend/cython/socket.pyx\u001b[0m in \u001b[0;36mzmq.backend.cython.socket.Socket.recv\u001b[0;34m()\u001b[0m\n",
            "\u001b[0;32mzmq/backend/cython/socket.pyx\u001b[0m in \u001b[0;36mzmq.backend.cython.socket._recv_copy\u001b[0;34m()\u001b[0m\n",
            "\u001b[0;32m/usr/local/lib/python3.6/dist-packages/zmq/backend/cython/checkrc.pxd\u001b[0m in \u001b[0;36mzmq.backend.cython.checkrc._check_rc\u001b[0;34m()\u001b[0m\n",
            "\u001b[0;31mKeyboardInterrupt\u001b[0m: ",
            "\nDuring handling of the above exception, another exception occurred:\n",
            "\u001b[0;31mKeyboardInterrupt\u001b[0m                         Traceback (most recent call last)",
            "\u001b[0;32m<ipython-input-204-95cb4be2a53e>\u001b[0m in \u001b[0;36m<module>\u001b[0;34m()\u001b[0m\n\u001b[0;32m----> 1\u001b[0;31m \u001b[0mPlayHumanvsRaylah\u001b[0m\u001b[0;34m(\u001b[0m\u001b[0;34m)\u001b[0m\u001b[0;34m\u001b[0m\u001b[0;34m\u001b[0m\u001b[0m\n\u001b[0m",
            "\u001b[0;32m<ipython-input-173-1ccdac503c66>\u001b[0m in \u001b[0;36mPlayHumanvsRaylah\u001b[0;34m()\u001b[0m\n\u001b[1;32m     46\u001b[0m       \u001b[0;32mwhile\u001b[0m \u001b[0mmove\u001b[0m \u001b[0;34m==\u001b[0m \u001b[0;34m''\u001b[0m\u001b[0;34m:\u001b[0m\u001b[0;34m\u001b[0m\u001b[0;34m\u001b[0m\u001b[0m\n\u001b[1;32m     47\u001b[0m         \u001b[0;32mtry\u001b[0m\u001b[0;34m:\u001b[0m\u001b[0;34m\u001b[0m\u001b[0;34m\u001b[0m\u001b[0m\n\u001b[0;32m---> 48\u001b[0;31m           \u001b[0mmove\u001b[0m \u001b[0;34m=\u001b[0m \u001b[0mboard\u001b[0m\u001b[0;34m.\u001b[0m\u001b[0mparse_san\u001b[0m\u001b[0;34m(\u001b[0m\u001b[0minput\u001b[0m\u001b[0;34m(\u001b[0m\u001b[0;34m\"{}, enter a move: \"\u001b[0m\u001b[0;34m.\u001b[0m\u001b[0mformat\u001b[0m\u001b[0;34m(\u001b[0m\u001b[0mplayer\u001b[0m\u001b[0;34m)\u001b[0m\u001b[0;34m)\u001b[0m\u001b[0;34m)\u001b[0m\u001b[0;34m\u001b[0m\u001b[0;34m\u001b[0m\u001b[0m\n\u001b[0m\u001b[1;32m     49\u001b[0m         \u001b[0;32mexcept\u001b[0m \u001b[0mValueError\u001b[0m\u001b[0;34m:\u001b[0m\u001b[0;34m\u001b[0m\u001b[0;34m\u001b[0m\u001b[0m\n\u001b[1;32m     50\u001b[0m           \u001b[0mprint\u001b[0m\u001b[0;34m(\u001b[0m\u001b[0;34m\"Invalid move!\"\u001b[0m\u001b[0;34m)\u001b[0m\u001b[0;34m\u001b[0m\u001b[0;34m\u001b[0m\u001b[0m\n",
            "\u001b[0;32m/usr/local/lib/python3.6/dist-packages/ipykernel/kernelbase.py\u001b[0m in \u001b[0;36mraw_input\u001b[0;34m(self, prompt)\u001b[0m\n\u001b[1;32m    702\u001b[0m             \u001b[0mself\u001b[0m\u001b[0;34m.\u001b[0m\u001b[0m_parent_ident\u001b[0m\u001b[0;34m,\u001b[0m\u001b[0;34m\u001b[0m\u001b[0;34m\u001b[0m\u001b[0m\n\u001b[1;32m    703\u001b[0m             \u001b[0mself\u001b[0m\u001b[0;34m.\u001b[0m\u001b[0m_parent_header\u001b[0m\u001b[0;34m,\u001b[0m\u001b[0;34m\u001b[0m\u001b[0;34m\u001b[0m\u001b[0m\n\u001b[0;32m--> 704\u001b[0;31m             \u001b[0mpassword\u001b[0m\u001b[0;34m=\u001b[0m\u001b[0;32mFalse\u001b[0m\u001b[0;34m,\u001b[0m\u001b[0;34m\u001b[0m\u001b[0;34m\u001b[0m\u001b[0m\n\u001b[0m\u001b[1;32m    705\u001b[0m         )\n\u001b[1;32m    706\u001b[0m \u001b[0;34m\u001b[0m\u001b[0m\n",
            "\u001b[0;32m/usr/local/lib/python3.6/dist-packages/ipykernel/kernelbase.py\u001b[0m in \u001b[0;36m_input_request\u001b[0;34m(self, prompt, ident, parent, password)\u001b[0m\n\u001b[1;32m    732\u001b[0m             \u001b[0;32mexcept\u001b[0m \u001b[0mKeyboardInterrupt\u001b[0m\u001b[0;34m:\u001b[0m\u001b[0;34m\u001b[0m\u001b[0;34m\u001b[0m\u001b[0m\n\u001b[1;32m    733\u001b[0m                 \u001b[0;31m# re-raise KeyboardInterrupt, to truncate traceback\u001b[0m\u001b[0;34m\u001b[0m\u001b[0;34m\u001b[0m\u001b[0;34m\u001b[0m\u001b[0m\n\u001b[0;32m--> 734\u001b[0;31m                 \u001b[0;32mraise\u001b[0m \u001b[0mKeyboardInterrupt\u001b[0m\u001b[0;34m\u001b[0m\u001b[0;34m\u001b[0m\u001b[0m\n\u001b[0m\u001b[1;32m    735\u001b[0m             \u001b[0;32melse\u001b[0m\u001b[0;34m:\u001b[0m\u001b[0;34m\u001b[0m\u001b[0;34m\u001b[0m\u001b[0m\n\u001b[1;32m    736\u001b[0m                 \u001b[0;32mbreak\u001b[0m\u001b[0;34m\u001b[0m\u001b[0;34m\u001b[0m\u001b[0m\n",
            "\u001b[0;31mKeyboardInterrupt\u001b[0m: "
          ]
        }
      ]
    }
  ]
}