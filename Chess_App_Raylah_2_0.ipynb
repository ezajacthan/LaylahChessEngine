{
 "cells": [
  {
   "cell_type": "code",
   "execution_count": null,
   "metadata": {
    "colab": {
     "base_uri": "https://localhost:8080/"
    },
    "id": "pTcUQH9b3tkG",
    "outputId": "66ee7061-5e82-4b9e-c650-66554c50c7ab"
   },
   "outputs": [],
   "source": [
    "!pip install python_chess"
   ]
  },
  {
   "cell_type": "code",
   "execution_count": null,
   "metadata": {
    "id": "x7eXx1Hx42T7"
   },
   "outputs": [],
   "source": [
    "#setup app environment\n",
    "import chess\n",
    "import random\n",
    "import time\n",
    "from IPython.display import clear_output"
   ]
  },
  {
   "cell_type": "code",
   "execution_count": null,
   "metadata": {
    "id": "xvGKFbsira8v"
   },
   "outputs": [],
   "source": [
    "def RaylahChessAI(board, color, depth = 3):\n",
    "  best_move = list(board.legal_moves)[0]\n",
    "  best_val = -9999\n",
    "  new_board = board.copy()\n",
    "\n",
    "  def get_value(piece):\n",
    "    if piece == 1:\n",
    "      return 1\n",
    "    if piece == 4:\n",
    "      return 5\n",
    "    if piece == 2:\n",
    "      return 3\n",
    "    if piece == 3:\n",
    "      return 3.2\n",
    "    if piece == 5:\n",
    "      return 9\n",
    "    if piece == 6:\n",
    "      return 100\n",
    "  \n",
    "  def evaluate_board(board):\n",
    "    board_map = list(board.piece_map().values())\n",
    "    eval = 0\n",
    "    if board.is_game_over():\n",
    "      if board.is_checkmate():\n",
    "        if board.turn:\n",
    "          #if white is loser\n",
    "          return -1000\n",
    "        else:\n",
    "          return 1000\n",
    "      else:\n",
    "        return 0\n",
    "    for piece in board_map:\n",
    "      if piece.color:\n",
    "        eval = eval + get_value(piece.piece_type)\n",
    "      else:\n",
    "        eval = eval - get_value(piece.piece_type)\n",
    "    return eval\n",
    "\n",
    "  def evaluate_move(move, board):\n",
    "    board.push(move)\n",
    "    val = evaluate_board(board)\n",
    "    board.pop()\n",
    "    return val\n",
    "\n",
    "  def minimax(board, depth, alpha, beta, is_maximizing):\n",
    "    minimax_board = board.copy()\n",
    "    if depth == 0 or len(list(minimax_board.legal_moves)) == 0:\n",
    "      move = None\n",
    "      try:\n",
    "        while (new_board.peek() != minimax_board.peek()):\n",
    "            move = minimax_board.pop()\n",
    "        if minimax_board.is_game_over():\n",
    "          if minimax_board.is_checkmate():\n",
    "            if minimax_board.turn:\n",
    "              return [-100000000, move]\n",
    "            else:\n",
    "              return [100000000, move]\n",
    "          else:\n",
    "            return [0, move]\n",
    "        else:\n",
    "          return [evaluate_board(board), move]\n",
    "      except IndexError:\n",
    "        move = new_board.parse_san(\"e4\")\n",
    "        return [4, move ]\n",
    "  \n",
    "    best_move = None\n",
    "    minimax_board = board.copy()\n",
    "    if is_maximizing:\n",
    "      val = -1000000\n",
    "      moves = list(minimax_board.legal_moves)\n",
    "      for move in moves:\n",
    "        minimax_board.push(move)\n",
    "        new_depth = depth-1\n",
    "        test = minimax(minimax_board, new_depth, alpha, beta, False)\n",
    "        if val < test[0]:\n",
    "          val = test[0]\n",
    "          best_move = test[1]\n",
    "        if val > alpha:\n",
    "          alpha = val\n",
    "        if (beta <= alpha):\n",
    "          return [val, best_move]\n",
    "        minimax_board.pop()\n",
    "      return [val, best_move]\n",
    "    else:\n",
    "      val = 1000000\n",
    "      moves = list(board.legal_moves)\n",
    "      for move in moves:\n",
    "        minimax_board.push(move)\n",
    "        new_depth = depth-1\n",
    "        test = minimax(minimax_board, new_depth, alpha, beta, True)\n",
    "        if val > test[0]:\n",
    "          val = test[0]\n",
    "          best_move = test[1] \n",
    "        if val < beta:\n",
    "          beta = val\n",
    "        if (beta <= alpha):\n",
    "          return [val, best_move]\n",
    "        minimax_board.pop()\n",
    "      return [val, best_move]\n",
    "\n",
    "    \n",
    "  #run the minimax algorithm\n",
    "  result = minimax(new_board, depth, -1000000, 1000000, color)\n",
    "\n",
    "  return result[1]"
   ]
  },
  {
   "cell_type": "code",
   "execution_count": null,
   "metadata": {
    "id": "_7C8y2gc42Ri"
   },
   "outputs": [],
   "source": [
    "def PlayHumanvsRaylah():\n",
    "  board = chess.Board()\n",
    "  player = ''\n",
    "  while player != 'White' and player != \"Black\":\n",
    "    player = input('Enter whether you would like to play \"White\" or \"Black\" vs the computer: ')\n",
    "  if player == \"White\":\n",
    "    while(board.is_game_over() == False):\n",
    "      clear_output(wait=True)\n",
    "      print(board)\n",
    "      player = \"White\"\n",
    "      move = ''\n",
    "      while move == '':\n",
    "        try:\n",
    "          move = board.parse_san(input(\"{}, enter a move: \".format(player)))\n",
    "        except ValueError:\n",
    "          print(\"Invalid move!\")\n",
    "      board.push(move)\n",
    "      if board.is_game_over():\n",
    "        break\n",
    "\n",
    "      #Now it is the AI's turn\n",
    "\n",
    "      #get next move via AI algorithm\n",
    "      player = \"Raylah\"\n",
    "      move_list = list(board.legal_moves)\n",
    "      move_AI = RaylahChessAI(board, \"Black\")\n",
    "      board.push(move_AI)\n",
    "    \n",
    "    clear_output(wait=True)\n",
    "    print(board)\n",
    "    print(\"Game Over! Winner is {}\".format(player))\n",
    "  \n",
    "  else:\n",
    "    while(board.is_game_over() == False):\n",
    "      #Now it is the AI's turn\n",
    "      player = 'Raylah'\n",
    "      #get next move via AI algorithm\n",
    "      move_list = list(board.legal_moves)\n",
    "      move_AI = RaylahChessAI(board, \"White\")\n",
    "      board.push(move_AI)\n",
    "      clear_output(wait=True)\n",
    "      print(board)\n",
    "      if board.is_game_over():\n",
    "        break\n",
    "\n",
    "      player = 'Black'\n",
    "      move = ''\n",
    "      while move == '':\n",
    "        try:\n",
    "          move = board.parse_san(input(\"{}, enter a move: \".format(player)))\n",
    "        except ValueError:\n",
    "          print(\"Invalid move!\")\n",
    "      board.push(move)\n",
    "  if(board.is_checkmate()):\n",
    "    clear_output(wait=True)\n",
    "    print(board)\n",
    "    print(\"Game Over! Winner is {}!\".format(player))\n",
    "  else:\n",
    "    clear_output(wait=True)\n",
    "    print(board)\n",
    "    print(\"Game Over! Draw!\")"
   ]
  },
  {
   "cell_type": "code",
   "execution_count": null,
   "metadata": {
    "id": "J3V4VI7142NL"
   },
   "outputs": [],
   "source": [
    "def PlayRaylahvsAI():\n",
    "  board = chess.Board()\n",
    "  player = 'White'\n",
    "  while(board.is_game_over() == False):\n",
    "      clear_output(wait=True)\n",
    "      print(board)\n",
    "      \n",
    "      #First AI's turn\n",
    "      player = \"Raylah\"\n",
    "      move_list = list(board.legal_moves)\n",
    "      move_AI = RaylahChessAI(board, \"White\")\n",
    "      board.push(move_AI)\n",
    "\n",
    "      if board.is_game_over():\n",
    "        break\n",
    "\n",
    "      clear_output(wait=True)\n",
    "      print(board)\n",
    "      \n",
    "      #Now it is the AI's turn\n",
    "      player = 'Black'\n",
    "      #next AI's move\n",
    "      move_AI = list(board.legal_moves)[random.randint(0, len(list(board.legal_moves)) - 1)]\n",
    "      board.push(move_AI)\n",
    "\n",
    "  if(board.is_checkmate()):\n",
    "    clear_output(wait=True)\n",
    "    print(board)\n",
    "    print(\"Game Over! Winner is {}!\".format(player))\n",
    "  else:\n",
    "    clear_output(wait=True)\n",
    "    print(board)\n",
    "    print(\"Game Over! Draw!\")"
   ]
  },
  {
   "cell_type": "code",
   "execution_count": null,
   "metadata": {
    "id": "UZLLs2RLq7rD"
   },
   "outputs": [],
   "source": [
    "def PlayAIvsRaylah():\n",
    "  board = chess.Board()\n",
    "  player = 'White'\n",
    "  while(board.is_game_over() == False):\n",
    "      clear_output(wait=True)\n",
    "      print(board)\n",
    "      \n",
    "      #First AI's turn\n",
    "      player = \"White\"\n",
    "      move_AI = list(board.legal_moves)[random.randint(0, len(list(board.legal_moves)) - 1)]\n",
    "      board.push(move_AI)\n",
    "\n",
    "      if board.is_game_over():\n",
    "        break\n",
    "\n",
    "      clear_output(wait=True)\n",
    "      print(board)\n",
    "      \n",
    "      #Now it is the AI's turn\n",
    "      player = 'Raylah'\n",
    "      #next AI's move\n",
    "      move_list = list(board.legal_moves)\n",
    "      move_AI = RaylahChessAI(board, \"White\")\n",
    "      board.push(move_AI)\n",
    "      \n",
    "\n",
    "  if(board.is_checkmate()):\n",
    "    clear_output(wait=True)\n",
    "    print(board)\n",
    "    print(\"Game Over! Winner is {}!\".format(player))\n",
    "  else:\n",
    "    clear_output(wait=True)\n",
    "    print(board)\n",
    "    print(\"Game Over! Draw!\")"
   ]
  },
  {
   "cell_type": "code",
   "execution_count": null,
   "metadata": {
    "colab": {
     "base_uri": "https://localhost:8080/",
     "height": 663
    },
    "id": "J1qNVkBjsDqV",
    "outputId": "87b05c93-b602-4e7e-9393-11dfc11cd63c"
   },
   "outputs": [],
   "source": [
    "PlayHumanvsRaylah()"
   ]
  },
  {
   "cell_type": "code",
   "execution_count": null,
   "metadata": {
    "colab": {
     "base_uri": "https://localhost:8080/",
     "height": 442
    },
    "id": "wUX7Y3qahRdF",
    "outputId": "0d230fa5-0200-4fbe-80ae-04f44c3c1da5"
   },
   "outputs": [],
   "source": [
    "PlayRaylahvsAI()"
   ]
  },
  {
   "cell_type": "code",
   "execution_count": null,
   "metadata": {
    "colab": {
     "base_uri": "https://localhost:8080/"
    },
    "id": "-TPVc6EJl4u_",
    "outputId": "b99e2487-aadc-4d02-9ad6-b4b9c6e265b9"
   },
   "outputs": [],
   "source": [
    "PlayAIvsRaylah()"
   ]
  }
 ],
 "metadata": {
  "colab": {
   "collapsed_sections": [],
   "name": "Chess_App_11_24.ipynb",
   "provenance": []
  },
  "kernelspec": {
   "display_name": "Python 3",
   "language": "python",
   "name": "python3"
  },
  "language_info": {
   "codemirror_mode": {
    "name": "ipython",
    "version": 3
   },
   "file_extension": ".py",
   "mimetype": "text/x-python",
   "name": "python",
   "nbconvert_exporter": "python",
   "pygments_lexer": "ipython3",
   "version": "3.7.4"
  }
 },
 "nbformat": 4,
 "nbformat_minor": 4
}
